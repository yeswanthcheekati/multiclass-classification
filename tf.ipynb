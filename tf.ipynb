{
 "cells": [
  {
   "cell_type": "code",
   "execution_count": 1,
   "metadata": {},
   "outputs": [],
   "source": [
    "import pandas as pd\n",
    "import numpy as np\n",
    "from sklearn.preprocessing import OneHotEncoder,LabelEncoder,StandardScaler\n",
    "from imblearn.over_sampling import SMOTE\n",
    "import random"
   ]
  },
  {
   "cell_type": "code",
   "execution_count": 2,
   "metadata": {},
   "outputs": [],
   "source": [
    "data_structure = pd.read_csv('Dataset/Building_Structure.csv')\n",
    "data_owner = pd.read_csv('Dataset/Building_Ownership_Use.csv')\n",
    "data_train = pd.read_csv('Dataset/train.csv')\n",
    "data_test = pd.read_csv('Dataset/test.csv')"
   ]
  },
  {
   "cell_type": "code",
   "execution_count": 3,
   "metadata": {},
   "outputs": [],
   "source": [
    "data_train = data_train.merge(data_structure,on='building_id')\n",
    "data_train = data_train.merge(data_owner,on='building_id')\n",
    "data_test = data_test.merge(data_structure,on='building_id')\n",
    "data_test = data_test.merge(data_owner,on='building_id')\n",
    "del data_owner,data_structure"
   ]
  },
  {
   "cell_type": "code",
   "execution_count": 4,
   "metadata": {},
   "outputs": [
    {
     "name": "stdout",
     "output_type": "stream",
     "text": [
      "done\n"
     ]
    }
   ],
   "source": [
    "le = LabelEncoder()\n",
    "data_train['district_id'] = le.fit_transform(data_train['district_id_x'])\n",
    "data_test['district_id'] = le.transform(data_test['district_id_x'])\n",
    "print('done')\n",
    "\n",
    "#data_train['ward_id'] = le.fit_transform(data_train['ward_id_x'])\n",
    "#data_test['ward_id'] = le.transform(data_test['ward_id_x'])\n",
    "\n",
    "#data_train['vdcmun_id'] = le.fit_transform(data_train['vdcmun_id_x'])\n",
    "#data_test['vdcmun_id'] = le.transform(data_test['vdcmun_id_x'])\n",
    "\n",
    "del data_train['district_id_x'],data_train['district_id_y'],data_train['vdcmun_id_x'],data_train['vdcmun_id_y']\n",
    "del data_test['district_id_x'],data_test['district_id_y'],data_test['vdcmun_id_x'],data_test['vdcmun_id_y']\n",
    "del data_test['ward_id_x'],data_test['ward_id_y'],data_train['ward_id_x'],data_train['ward_id_y']"
   ]
  },
  {
   "cell_type": "code",
   "execution_count": 5,
   "metadata": {},
   "outputs": [],
   "source": [
    "data_train['has_repair_started'] = data_train.has_repair_started.fillna(2)\n",
    "data_train['count_families'] = data_train.count_families.fillna(1)\n",
    "data_test['has_repair_started'] = data_test.has_repair_started.fillna(2)\n",
    "data_test['count_families'] = data_test.count_families.fillna(1)\n",
    "\n",
    "data_train.index = data_train.building_id\n",
    "data_test.index = data_test.building_id"
   ]
  },
  {
   "cell_type": "code",
   "execution_count": 6,
   "metadata": {},
   "outputs": [],
   "source": [
    "cat_var_tf = ['has_geotechnical_risk','has_geotechnical_risk_fault_crack','has_geotechnical_risk_flood',\n",
    "              'has_geotechnical_risk_land_settlement','has_geotechnical_risk_landslide','has_geotechnical_risk_liquefaction',\n",
    "              'has_geotechnical_risk_other','has_geotechnical_risk_rock_fall','has_superstructure_adobe_mud',\n",
    "              'has_superstructure_mud_mortar_stone','has_superstructure_stone_flag','has_superstructure_cement_mortar_stone',\n",
    "              'has_superstructure_mud_mortar_brick','has_superstructure_timber','has_superstructure_bamboo',\n",
    "              'has_superstructure_rc_engineered','has_superstructure_rc_non_engineered','has_superstructure_other',\n",
    "              'has_secondary_use', 'has_superstructure_cement_mortar_brick',\n",
    "              'has_secondary_use_agriculture','has_secondary_use_hotel', 'has_secondary_use_rental',\n",
    "              'has_secondary_use_institution','has_secondary_use_school','has_secondary_use_industry',\n",
    "              'has_secondary_use_health_post','has_secondary_use_gov_office', 'has_secondary_use_use_police',\n",
    "              'has_secondary_use_other'\n",
    "             ]\n",
    "cat_var = ['area_assesed','district_id','has_repair_started',\n",
    "           #'vdcmun_id','ward_id',\n",
    "          'land_surface_condition','foundation_type','roof_type','ground_floor_type','other_floor_type','position',\n",
    "          'plan_configuration','condition_post_eq','legal_ownership_status']\n",
    "\n",
    "cont_var = ['count_floors_pre_eq','count_floors_post_eq','age_building','plinth_area_sq_ft','height_ft_pre_eq',\n",
    "            'height_ft_post_eq','count_families']"
   ]
  },
  {
   "cell_type": "code",
   "execution_count": 7,
   "metadata": {},
   "outputs": [],
   "source": [
    "def encoder(series):\n",
    "    le = LabelEncoder().fit(series)\n",
    "    series = le.transform(series).reshape([-1,1])\n",
    "    oh = OneHotEncoder().fit(series)\n",
    "    series = oh.transform(series)\n",
    "    return series,le,oh"
   ]
  },
  {
   "cell_type": "code",
   "execution_count": 8,
   "metadata": {},
   "outputs": [],
   "source": [
    "ans,le,oh = encoder(data_train.area_assesed)\n",
    "ans_test = le.transform(data_test.area_assesed).reshape([-1,1])\n",
    "ans_test = oh.transform(ans_test)\n",
    "data_test = pd.concat([data_test,pd.DataFrame(ans_test.toarray(),columns=le.classes_,index=data_test.index)],axis=1)\n",
    "data_train = pd.concat([data_train,pd.DataFrame(ans.toarray(),columns=le.classes_,index=data_train.index)],axis=1)\n",
    "\n",
    "ans,le,oh = encoder(data_train.has_repair_started)\n",
    "ans_test = le.transform(data_test.has_repair_started).reshape([-1,1])\n",
    "ans_test = oh.transform(ans_test)\n",
    "data_test = pd.concat([data_test,pd.DataFrame(ans_test.toarray(),columns=le.classes_,index=data_test.index)],axis=1)\n",
    "data_train = pd.concat([data_train,pd.DataFrame(ans.toarray(),columns=le.classes_,index=data_train.index)],axis=1)\n",
    "\n",
    "ans,le,oh = encoder(data_train.land_surface_condition)\n",
    "ans_test = le.transform(data_test.land_surface_condition).reshape([-1,1])\n",
    "ans_test = oh.transform(ans_test)\n",
    "data_test = pd.concat([data_test,pd.DataFrame(ans_test.toarray(),columns=le.classes_,index=data_test.index)],axis=1)\n",
    "data_train = pd.concat([data_train,pd.DataFrame(ans.toarray(),columns=le.classes_,index=data_train.index)],axis=1)\n",
    "\n",
    "ans,le,oh = encoder(data_train.foundation_type)\n",
    "ans_test = le.transform(data_test.foundation_type).reshape([-1,1])\n",
    "ans_test = oh.transform(ans_test)\n",
    "data_test = pd.concat([data_test,pd.DataFrame(ans_test.toarray(),columns=le.classes_,index=data_test.index)],axis=1)\n",
    "data_train = pd.concat([data_train,pd.DataFrame(ans.toarray(),columns=le.classes_,index=data_train.index)],axis=1)\n",
    "\n",
    "ans,le,oh = encoder(data_train.roof_type)\n",
    "ans_test = le.transform(data_test.roof_type).reshape([-1,1])\n",
    "ans_test = oh.transform(ans_test)\n",
    "data_test = pd.concat([data_test,pd.DataFrame(ans_test.toarray(),columns=le.classes_,index=data_test.index)],axis=1)\n",
    "data_train = pd.concat([data_train,pd.DataFrame(ans.toarray(),columns=le.classes_,index=data_train.index)],axis=1)\n",
    "\n",
    "ans,le,oh = encoder(data_train.ground_floor_type)\n",
    "ans_test = le.transform(data_test.ground_floor_type).reshape([-1,1])\n",
    "ans_test = oh.transform(ans_test)\n",
    "data_test = pd.concat([data_test,pd.DataFrame(ans_test.toarray(),columns=le.classes_,index=data_test.index)],axis=1)\n",
    "data_train = pd.concat([data_train,pd.DataFrame(ans.toarray(),columns=le.classes_,index=data_train.index)],axis=1)\n",
    "\n",
    "ans,le,oh = encoder(data_train.other_floor_type)\n",
    "ans_test = le.transform(data_test.other_floor_type).reshape([-1,1])\n",
    "ans_test = oh.transform(ans_test)\n",
    "data_test = pd.concat([data_test,pd.DataFrame(ans_test.toarray(),columns=le.classes_,index=data_test.index)],axis=1)\n",
    "data_train = pd.concat([data_train,pd.DataFrame(ans.toarray(),columns=le.classes_,index=data_train.index)],axis=1)\n",
    "\n",
    "ans,le,oh = encoder(data_train.position)\n",
    "ans_test = le.transform(data_test.position).reshape([-1,1])\n",
    "ans_test = oh.transform(ans_test)\n",
    "data_test = pd.concat([data_test,pd.DataFrame(ans_test.toarray(),columns=le.classes_,index=data_test.index)],axis=1)\n",
    "data_train = pd.concat([data_train,pd.DataFrame(ans.toarray(),columns=le.classes_,index=data_train.index)],axis=1)\n",
    "\n",
    "ans,le,oh = encoder(data_train.plan_configuration)\n",
    "ans_test = le.transform(data_test.plan_configuration).reshape([-1,1])\n",
    "ans_test = oh.transform(ans_test)\n",
    "data_test = pd.concat([data_test,pd.DataFrame(ans_test.toarray(),columns=le.classes_,index=data_test.index)],axis=1)\n",
    "data_train = pd.concat([data_train,pd.DataFrame(ans.toarray(),columns=le.classes_,index=data_train.index)],axis=1)\n",
    "\n",
    "ans,le,oh = encoder(data_train.condition_post_eq)\n",
    "ans_test = le.transform(data_test.condition_post_eq).reshape([-1,1])\n",
    "ans_test = oh.transform(ans_test)\n",
    "data_test = pd.concat([data_test,pd.DataFrame(ans_test.toarray(),columns=le.classes_,index=data_test.index)],axis=1)\n",
    "data_train = pd.concat([data_train,pd.DataFrame(ans.toarray(),columns=le.classes_,index=data_train.index)],axis=1)\n",
    "\n",
    "ans,le,oh = encoder(data_train.legal_ownership_status)\n",
    "ans_test = le.transform(data_test.legal_ownership_status).reshape([-1,1])\n",
    "ans_test = oh.transform(ans_test)\n",
    "data_test = pd.concat([data_test,pd.DataFrame(ans_test.toarray(),columns=le.classes_,index=data_test.index)],axis=1)\n",
    "data_train = pd.concat([data_train,pd.DataFrame(ans.toarray(),columns=le.classes_,index=data_train.index)],axis=1)\n",
    "\n",
    "del ans,ans_test,le,oh"
   ]
  },
  {
   "cell_type": "code",
   "execution_count": 9,
   "metadata": {},
   "outputs": [
    {
     "name": "stderr",
     "output_type": "stream",
     "text": [
      "c:\\users\\cheyeswa\\appdata\\local\\programs\\python\\python36\\lib\\site-packages\\sklearn\\utils\\validation.py:475: DataConversionWarning: Data with input dtype int64 was converted to float64 by StandardScaler.\n",
      "  warnings.warn(msg, DataConversionWarning)\n"
     ]
    }
   ],
   "source": [
    "for var in cont_var:\n",
    "    sc = StandardScaler()\n",
    "    data_train[var] = sc.fit_transform(data_train[var].values.reshape([-1,1]))\n",
    "    data_test[var] = sc.transform(data_test[var].values.reshape([-1,1]))"
   ]
  },
  {
   "cell_type": "code",
   "execution_count": 10,
   "metadata": {},
   "outputs": [],
   "source": [
    "rem = ['area_assesed','has_repair_started','building_id','vdcmun_id',#'ward_id',\n",
    "       'land_surface_condition','foundation_type','roof_type','ground_floor_type','other_floor_type','position',\n",
    "          'plan_configuration','condition_post_eq','legal_ownership_status']\n",
    "data_train.drop(rem,axis=1,inplace=True)\n",
    "data_test.drop(rem,axis=1,inplace=True)"
   ]
  },
  {
   "cell_type": "code",
   "execution_count": 11,
   "metadata": {},
   "outputs": [],
   "source": [
    "y = data_train.pop('damage_grade')\n",
    "col = data_train.columns\n",
    "le = LabelEncoder().fit(y)\n",
    "y = le.transform(y)\n",
    "#X,y = SMOTE().fit_sample(data_train.values,y)\n",
    "y = y.reshape([-1,1])\n",
    "oh = OneHotEncoder().fit(y)\n",
    "y = oh.transform(y)\n",
    "y = y.toarray()\n",
    "#del data_train"
   ]
  },
  {
   "cell_type": "code",
   "execution_count": 12,
   "metadata": {},
   "outputs": [
    {
     "data": {
      "text/plain": [
       "25"
      ]
     },
     "execution_count": 12,
     "metadata": {},
     "output_type": "execute_result"
    }
   ],
   "source": [
    "list(col).index('district_id')"
   ]
  },
  {
   "cell_type": "code",
   "execution_count": 13,
   "metadata": {},
   "outputs": [],
   "source": [
    "n_features = col.shape[0]-1"
   ]
  },
  {
   "cell_type": "code",
   "execution_count": 14,
   "metadata": {},
   "outputs": [
    {
     "data": {
      "text/plain": [
       "91"
      ]
     },
     "execution_count": 14,
     "metadata": {},
     "output_type": "execute_result"
    }
   ],
   "source": [
    "n_features"
   ]
  },
  {
   "cell_type": "code",
   "execution_count": 15,
   "metadata": {},
   "outputs": [],
   "source": [
    "from sklearn.model_selection import train_test_split\n",
    "from sklearn import metrics"
   ]
  },
  {
   "cell_type": "code",
   "execution_count": 16,
   "metadata": {},
   "outputs": [],
   "source": [
    "X_train, X_test, y_train, y_test = train_test_split(data_train.values, y, test_size=0.2, random_state=42)"
   ]
  },
  {
   "cell_type": "code",
   "execution_count": 17,
   "metadata": {},
   "outputs": [],
   "source": [
    "dist_train = X_train[:,25]\n",
    "dist_train = dist_train.astype(np.int32)\n",
    "dist_test = X_test[:,25]\n",
    "dist_train = dist_train.astype(np.int32)"
   ]
  },
  {
   "cell_type": "code",
   "execution_count": 18,
   "metadata": {},
   "outputs": [],
   "source": [
    "X_train = np.delete(X_train,25,axis=1)\n",
    "X_test = np.delete(X_test,25,axis=1)\n",
    "\n",
    "X_train = X_train.astype(np.float32)\n",
    "X_test = X_test.astype(np.float32)"
   ]
  },
  {
   "cell_type": "code",
   "execution_count": 91,
   "metadata": {},
   "outputs": [],
   "source": [
    "def create_batch(X_train,y_train,dist_train,batch_size = 10000):\n",
    "    ch = random.choice(range(15,30))/10\n",
    "    w =ch-np.argmax(y_train,axis=1)/(ch+0.5)\n",
    "    i = random.choices(range(X_train.shape[0]),weights=w,k=batch_size)\n",
    "    x_batch = X_train[i]\n",
    "    y_batch = y_train[i]\n",
    "    dist_batch = dist_train[i]\n",
    "    return x_batch,y_batch,dist_batch"
   ]
  },
  {
   "cell_type": "code",
   "execution_count": 92,
   "metadata": {},
   "outputs": [
    {
     "data": {
      "text/plain": [
       "array([4393, 3621, 1986,    0,    0])"
      ]
     },
     "execution_count": 92,
     "metadata": {},
     "output_type": "execute_result"
    }
   ],
   "source": [
    "a,b,c = create_batch(X_train,y_train,dist_train)\n",
    "(b==1).sum(axis=0)"
   ]
  },
  {
   "cell_type": "code",
   "execution_count": 21,
   "metadata": {},
   "outputs": [],
   "source": [
    "import tensorflow as tf"
   ]
  },
  {
   "cell_type": "code",
   "execution_count": 30,
   "metadata": {},
   "outputs": [],
   "source": [
    "grapf = tf.Graph()"
   ]
  },
  {
   "cell_type": "code",
   "execution_count": 34,
   "metadata": {},
   "outputs": [],
   "source": [
    "with grapf.as_default():\n",
    "    tf_x = tf.placeholder(shape=[None,n_features],dtype=tf.float32)\n",
    "    tf_y = tf.placeholder(shape=[None,5],dtype=tf.float32)\n",
    "    tf_dist = tf.placeholder(shape=[None],dtype=tf.int32)\n",
    "\n",
    "    embed_dist = tf.Variable(tf.truncated_normal(shape=[31,10]))\n",
    "    tf_dist_ = tf.nn.embedding_lookup(embed_dist,tf_dist)\n",
    "\n",
    "    tf_x_n = tf.concat([tf_x,tf_dist_],axis=1)\n",
    "\n",
    "    W = tf.Variable(tf.truncated_normal(shape=[n_features+10,5],dtype=tf.float32))\n",
    "    b = tf.Variable(tf.truncated_normal(shape=[5]))\n",
    "\n",
    "    pred = tf.matmul(tf_x_n,W) + b\n",
    "    tf_pred = tf.nn.softmax(pred)\n",
    "\n",
    "    cost = tf.reduce_mean(tf.nn.softmax_cross_entropy_with_logits_v2(logits=pred,labels=tf_y))\n",
    "\n",
    "    optimizer = tf.train.AdamOptimizer(0.008).minimize(cost)"
   ]
  },
  {
   "cell_type": "code",
   "execution_count": 35,
   "metadata": {},
   "outputs": [],
   "source": [
    "sess = tf.InteractiveSession(graph=grapf)"
   ]
  },
  {
   "cell_type": "code",
   "execution_count": 36,
   "metadata": {},
   "outputs": [
    {
     "name": "stdout",
     "output_type": "stream",
     "text": [
      "4.058239\n",
      "2.208353\n",
      "1.5348314\n",
      "1.1944594\n",
      "1.0329543\n",
      "0.8740247\n",
      "0.94363934\n",
      "0.7967173\n",
      "0.76373523\n",
      "0.79603976\n",
      "0.8062041\n",
      "0.8361033\n",
      "0.78716856\n",
      "0.71951854\n",
      "0.70943916\n",
      "0.7539448\n",
      "0.74796426\n"
     ]
    }
   ],
   "source": [
    "train_l = []\n",
    "test_l = []\n",
    "tf.global_variables_initializer().run()\n",
    "for i in range(500):\n",
    "    batch_x,batch_y,batch_dist = create_batch(X_train,y_train,dist_train)\n",
    "    feed_dict = {\n",
    "        tf_x:batch_x,\n",
    "        tf_y:batch_y,\n",
    "        tf_dist:batch_dist\n",
    "    }\n",
    "    loss,_ = sess.run([cost,optimizer],feed_dict=feed_dict)\n",
    "    if i%30 == 0:\n",
    "        print(loss)\n",
    "        feed_dict = {\n",
    "            tf_x:X_train,\n",
    "            tf_y:y_train,\n",
    "            tf_dist:dist_train\n",
    "        }\n",
    "        prediction = sess.run(tf_pred,feed_dict=feed_dict) \n",
    "        prediction = oh.transform(np.argmax(prediction,axis=1).reshape([-1,1])).toarray()\n",
    "        train_l.append(metrics.accuracy_score(y_train,prediction))\n",
    "        feed_dict = {\n",
    "            tf_x:X_test,\n",
    "            tf_y:y_test,\n",
    "            tf_dist:dist_test\n",
    "        }\n",
    "        prediction = sess.run(tf_pred,feed_dict=feed_dict)\n",
    "        prediction = oh.transform(np.argmax(prediction,axis=1).reshape([-1,1])).toarray()\n",
    "        test_l.append(metrics.accuracy_score(y_test,prediction))"
   ]
  },
  {
   "cell_type": "code",
   "execution_count": 26,
   "metadata": {},
   "outputs": [],
   "source": [
    "import matplotlib.pyplot as plt"
   ]
  },
  {
   "cell_type": "code",
   "execution_count": 37,
   "metadata": {},
   "outputs": [
    {
     "data": {
      "text/plain": [
       "[<matplotlib.lines.Line2D at 0xb302cef320>]"
      ]
     },
     "execution_count": 37,
     "metadata": {},
     "output_type": "execute_result"
    },
    {
     "data": {
      "image/png": "[encoded data removed]",
      "text/plain": [
       "<Figure size 432x288 with 1 Axes>"
      ]
     },
     "metadata": {},
     "output_type": "display_data"
    }
   ],
   "source": [
    "plt.plot(train_l)\n",
    "plt.plot(test_l)"
   ]
  },
  {
   "cell_type": "code",
   "execution_count": 39,
   "metadata": {},
   "outputs": [],
   "source": [
    "dist_id = data_test.pop('district_id')"
   ]
  },
  {
   "cell_type": "code",
   "execution_count": 41,
   "metadata": {},
   "outputs": [],
   "source": [
    "dist_id = dist_id.values.astype(np.int32)\n",
    "test = data_test.values.astype(np.float32)"
   ]
  },
  {
   "cell_type": "code",
   "execution_count": 42,
   "metadata": {},
   "outputs": [],
   "source": [
    "feed_dict = {\n",
    "    tf_x:test,\n",
    "    tf_dist:dist_id\n",
    "}\n",
    "prediction = sess.run(tf_pred,feed_dict=feed_dict)"
   ]
  },
  {
   "cell_type": "code",
   "execution_count": 45,
   "metadata": {},
   "outputs": [],
   "source": [
    "final = pd.read_csv('Dataset/sample_submission.csv')"
   ]
  },
  {
   "cell_type": "code",
   "execution_count": 56,
   "metadata": {},
   "outputs": [
    {
     "name": "stderr",
     "output_type": "stream",
     "text": [
      "c:\\users\\cheyeswa\\appdata\\local\\programs\\python\\python36\\lib\\site-packages\\sklearn\\preprocessing\\label.py:151: DeprecationWarning: The truth value of an empty array is ambiguous. Returning False, but in future this will result in an error. Use `array.size > 0` to check that an array is not empty.\n",
      "  if diff:\n"
     ]
    }
   ],
   "source": [
    "final['damage_grade'] = le.inverse_transform(np.argmax(prediction,axis=1))"
   ]
  },
  {
   "cell_type": "code",
   "execution_count": 60,
   "metadata": {},
   "outputs": [],
   "source": [
    "final.to_csv('ans.csv',index=False)"
   ]
  },
  {
   "cell_type": "code",
   "execution_count": 55,
   "metadata": {},
   "outputs": [
    {
     "data": {
      "text/plain": [
       "(133796, 2)"
      ]
     },
     "execution_count": 55,
     "metadata": {},
     "output_type": "execute_result"
    }
   ],
   "source": [
    "final[final.damage_grade ==4].shape"
   ]
  },
  {
   "cell_type": "code",
   "execution_count": 58,
   "metadata": {},
   "outputs": [
    {
     "data": {
      "text/plain": [
       "(421175, 2)"
      ]
     },
     "execution_count": 58,
     "metadata": {},
     "output_type": "execute_result"
    }
   ],
   "source": [
    "final"
   ]
  },
  {
   "cell_type": "code",
   "execution_count": 59,
   "metadata": {},
   "outputs": [
    {
     "data": {
      "text/plain": [
       "(421175, 91)"
      ]
     },
     "execution_count": 59,
     "metadata": {},
     "output_type": "execute_result"
    }
   ],
   "source": [
    "data_test.shape"
   ]
  },
  {
   "cell_type": "code",
   "execution_count": null,
   "metadata": {},
   "outputs": [],
   "source": []
  }
 ],
 "metadata": {
  "kernelspec": {
   "display_name": "Python 3",
   "language": "python",
   "name": "python3"
  },
  "language_info": {
   "codemirror_mode": {
    "name": "ipython",
    "version": 3
   },
   "file_extension": ".py",
   "mimetype": "text/x-python",
   "name": "python",
   "nbconvert_exporter": "python",
   "pygments_lexer": "ipython3",
   "version": "3.6.6"
  }
 },
 "nbformat": 4,
 "nbformat_minor": 2
}
